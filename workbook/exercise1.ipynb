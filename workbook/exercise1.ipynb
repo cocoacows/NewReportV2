{
  "cells": [
    {
      "cell_type": "markdown",
      "metadata": {
        "id": "view-in-github",
        "colab_type": "text"
      },
      "source": [
        "<a href=\"https://colab.research.google.com/github/cocoacows/NewReportV2/blob/main/workbook/exercise1.ipynb\" target=\"_parent\"><img src=\"https://colab.research.google.com/assets/colab-badge.svg\" alt=\"Open In Colab\"/></a>"
      ]
    },
    {
      "cell_type": "markdown",
      "metadata": {
        "id": "hVwjFfdtUMWd"
      },
      "source": [
        "[![Open in colab](https://colab.research.google.com/assets/colab-badge.svg)](https://colab.research.google.com/github/FangmingXie/collab-workshop-st/blob/main/workbook/exercise1.ipynb)"
      ]
    },
    {
      "cell_type": "markdown",
      "metadata": {
        "id": "PxIXg12SQpXQ"
      },
      "source": [
        "# Exercise 1: How to make a scatter plot, and how to iteratively make a better one.\n",
        "\n",
        "Dataset:\n",
        "Vizgen Data Release V1.0. May 2021"
      ]
    },
    {
      "cell_type": "code",
      "execution_count": null,
      "metadata": {
        "id": "9QASDHy3PxNs"
      },
      "outputs": [],
      "source": [
        "## Install and import packages\n",
        "import numpy as np\n",
        "import pandas as pd\n",
        "import matplotlib.pyplot as plt\n",
        "import seaborn as sns\n",
        "\n",
        "# set plot style\n",
        "%matplotlib inline\n",
        "%config InlineBackend.figure_format='retina'\n",
        "sns.set_context('talk')"
      ]
    },
    {
      "cell_type": "code",
      "execution_count": null,
      "metadata": {
        "id": "rsBrDQa_ByZv"
      },
      "outputs": [],
      "source": [
        "# functions (the teacher wrote for you to use later)\n",
        "def rot2d(x, y, theta, unit='degree'):\n",
        "    \"\"\" rotate data points defined by `x` and `y` by `theta` degree\n",
        "    \"\"\"\n",
        "    a = np.vstack([x,y]).T\n",
        "    if unit == 'degree':\n",
        "        theta = theta*np.pi/180 # convert to radian\n",
        "\n",
        "    R = np.array([[np.cos(theta), -np.sin(theta)], [np.sin(theta), np.cos(theta)]])\n",
        "    ar = a.dot(R.T)\n",
        "    return ar[:,0], ar[:,1]"
      ]
    },
    {
      "cell_type": "markdown",
      "metadata": {
        "id": "gpekxT0kVkqm"
      },
      "source": [
        "### Iteration 1: make a minimalist scatter plot\n",
        "Pretending each dot is a cell, so this plot shows their locations in space!"
      ]
    },
    {
      "cell_type": "code",
      "execution_count": null,
      "metadata": {
        "id": "4ti2p1MVVSth"
      },
      "outputs": [],
      "source": [
        "x = [1,2,3,4]\n",
        "y = [1,2,3,3]\n",
        "\n",
        "plt.scatter(x, y)"
      ]
    },
    {
      "cell_type": "markdown",
      "metadata": {
        "id": "ipqo8deUY8f_"
      },
      "source": [
        "### Iteration 2: add a color for each dot\n",
        "The colors could represent the gene expression levels for each cell -- now it's spatial transcriptomics!"
      ]
    },
    {
      "cell_type": "code",
      "execution_count": null,
      "metadata": {
        "id": "LHipwEssVe2u"
      },
      "outputs": [],
      "source": [
        "x = [1,2,3,4]\n",
        "y = [1,2,3,3]\n",
        "gene = [0,0,1,2]\n",
        "\n",
        "# make the change here\n",
        "#  plt.scatter(x, y, ...)"
      ]
    },
    {
      "cell_type": "markdown",
      "metadata": {
        "id": "34MOrXijZ5Wy"
      },
      "source": [
        "### Iteration 3: add a color bar and tune figure size\n",
        "Display of colors should always be accompanied by a colorbar."
      ]
    },
    {
      "cell_type": "code",
      "execution_count": null,
      "metadata": {
        "id": "pr-slRoJVe-j"
      },
      "outputs": [],
      "source": [
        "# modify the following code to make it work\n",
        "\n",
        "fig, ax = plt.subplots(figsize=(10,8))\n",
        "# g = ax.scatter(x, y, ...)\n",
        "# fig.colorbar(g)"
      ]
    },
    {
      "cell_type": "markdown",
      "metadata": {
        "id": "cqpsKZ-fA--8"
      },
      "source": [
        "### Iteration 4: Make the plot using REAL data\n",
        "\n",
        "### Load data\n",
        "*The data is adapted from the original data source: Vizgen Data Release V1.0. May 2021*\n",
        "\n",
        "### Making the plot\n",
        "- how to get the information we need from the data table?\n",
        "- Using one gene as an example: `Slc17a7`\n",
        "\n",
        "*The data is adapted from the original data source: Vizgen Data Release V1.0. May 2021*"
      ]
    },
    {
      "cell_type": "code",
      "execution_count": null,
      "metadata": {
        "id": "7OmnwvsWx4X2"
      },
      "outputs": [],
      "source": [
        "f = \"https://raw.githubusercontent.com/FangmingXie/collab-workshop-st/main/data/vizgen_mouse_brain_S2R2.csv.gz\"\n",
        "data = pd.read_csv(f, index_col=0)\n",
        "data"
      ]
    },
    {
      "cell_type": "code",
      "execution_count": null,
      "metadata": {
        "id": "1b30Nl-hjMtX"
      },
      "outputs": [],
      "source": [
        "# try making the plot using real data here\n",
        "# Ask Google and/or ChatGPT (https://chat.openai.com) for help.\n"
      ]
    },
    {
      "cell_type": "markdown",
      "metadata": {
        "id": "TND08PPfa6Ml"
      },
      "source": [
        "### Pause and Ponder -- why does the real data doesn't look good?\n",
        "- too many dots? too crowded? figure not big enough?\n",
        "- range of gene expression?\n",
        "- how can we fix them? Try it!"
      ]
    },
    {
      "cell_type": "code",
      "execution_count": null,
      "metadata": {
        "id": "I-dQ3bnpa1jB"
      },
      "outputs": [],
      "source": [
        "# try investigate the problems and fixing the plot here!"
      ]
    },
    {
      "cell_type": "code",
      "execution_count": null,
      "metadata": {
        "id": "tMGXmRiOj-H9"
      },
      "outputs": [],
      "source": []
    }
  ],
  "metadata": {
    "colab": {
      "provenance": [],
      "include_colab_link": true
    },
    "kernelspec": {
      "display_name": "Python 3 (ipykernel)",
      "language": "python",
      "name": "python3"
    },
    "language_info": {
      "codemirror_mode": {
        "name": "ipython",
        "version": 3
      },
      "file_extension": ".py",
      "mimetype": "text/x-python",
      "name": "python",
      "nbconvert_exporter": "python",
      "pygments_lexer": "ipython3",
      "version": "3.9.16"
    }
  },
  "nbformat": 4,
  "nbformat_minor": 0
}